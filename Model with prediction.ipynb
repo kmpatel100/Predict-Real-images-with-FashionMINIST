{
 "cells": [
  {
   "cell_type": "code",
   "execution_count": 13,
   "metadata": {},
   "outputs": [],
   "source": [
    "#install Packages\n",
    "import numpy as np\n",
    "import pandas as pd\n",
    "import matplotlib.pyplot as plt\n",
    "import tensorflow.compat.v1 as tf\n",
    "import keras as kr"
   ]
  },
  {
   "cell_type": "code",
   "execution_count": 14,
   "metadata": {},
   "outputs": [
    {
     "name": "stdout",
     "output_type": "stream",
     "text": [
      "[name: \"/device:CPU:0\"\n",
      "device_type: \"CPU\"\n",
      "memory_limit: 268435456\n",
      "locality {\n",
      "}\n",
      "incarnation: 17097546483049236017\n",
      ", name: \"/device:GPU:0\"\n",
      "device_type: \"GPU\"\n",
      "memory_limit: 1412474060\n",
      "locality {\n",
      "  bus_id: 1\n",
      "  links {\n",
      "  }\n",
      "}\n",
      "incarnation: 1514262421367066692\n",
      "physical_device_desc: \"device: 0, name: GeForce GTX 1050, pci bus id: 0000:01:00.0, compute capability: 6.1\"\n",
      "]\n"
     ]
    }
   ],
   "source": [
    "#to see current gpu is available or not\n",
    "from tensorflow.python.client import device_lib\n",
    "print(device_lib.list_local_devices())"
   ]
  },
  {
   "cell_type": "code",
   "execution_count": 15,
   "metadata": {},
   "outputs": [],
   "source": [
    "#use keras on gpu\n",
    "import keras\n",
    "config = tf.ConfigProto( device_count = {'GPU': 1 , 'CPU': 4} ) \n",
    "sess = tf.Session(config=config) \n",
    "keras.backend.set_session(sess)"
   ]
  },
  {
   "cell_type": "code",
   "execution_count": 16,
   "metadata": {},
   "outputs": [
    {
     "name": "stdout",
     "output_type": "stream",
     "text": [
      "Shape of features: (60000, 28, 28, 1)\n",
      "Shape of features: (60000,)\n"
     ]
    }
   ],
   "source": [
    "#load the training Data\n",
    "fashion_train = pd.read_csv('D:\\\\fashion-mnist_train.csv')\n",
    "f_train = fashion_train.astype(\"float32\")/255\n",
    "\n",
    "#select features for training\n",
    "X_train = f_train.iloc[:,1:]\n",
    "\n",
    "#convert into array\n",
    "X_train = np.array(X_train, dtype = 'float32')\n",
    "\n",
    "#Reshape\n",
    "X_train = X_train.reshape((X_train.shape[0], 28, 28, 1))\n",
    "\n",
    "#Shape of features\n",
    "print('Shape of features:',X_train.shape)\n",
    "\n",
    "#target for training\n",
    "Y_train = fashion_train.iloc[:,0]\n",
    "\n",
    "#convert into array\n",
    "Y_train = np.array(Y_train, dtype = 'float32')\n",
    "\n",
    "#Shape of target\n",
    "print('Shape of features:',Y_train.shape)\n",
    "\n",
    "#define load_data\n",
    "def load_data():\n",
    "    X_train\n",
    "    Y_train\n",
    "    return X_train, Y_train"
   ]
  },
  {
   "cell_type": "code",
   "execution_count": 17,
   "metadata": {},
   "outputs": [
    {
     "data": {
      "text/plain": [
       "<matplotlib.image.AxesImage at 0x20ce84e3408>"
      ]
     },
     "execution_count": 17,
     "metadata": {},
     "output_type": "execute_result"
    },
    {
     "data": {
      "image/png": "[encoded data removed]",
      "text/plain": [
       "<Figure size 432x288 with 1 Axes>"
      ]
     },
     "metadata": {
      "needs_background": "light"
     },
     "output_type": "display_data"
    }
   ],
   "source": [
    "#View the image how it looks\n",
    "image = np.reshape(fashion_train[fashion_train.columns[1:]].iloc[5].values/255, (28,28))\n",
    "plt.figure()\n",
    "plt.title(\"labeled class {}\".format(fashion_train[\"label\"].iloc[5]))\n",
    "plt.imshow(image,cmap='gray')"
   ]
  },
  {
   "cell_type": "code",
   "execution_count": 18,
   "metadata": {},
   "outputs": [],
   "source": [
    "# import keras models and layers\n",
    "from keras.models import Sequential\n",
    "from keras.layers import Dense, Dropout, Flatten\n",
    "from keras.layers import Conv2D, MaxPooling2D"
   ]
  },
  {
   "cell_type": "markdown",
   "metadata": {},
   "source": [
    "#### First Simple Neural Network"
   ]
  },
  {
   "cell_type": "code",
   "execution_count": 22,
   "metadata": {},
   "outputs": [],
   "source": [
    "#model = tf.keras.models.Sequential([tf.keras.layers.Flatten(), \n",
    "#                                    tf.keras.layers.Dense(128, activation=tf.nn.relu), \n",
    "#                                   tf.keras.layers.Dense(10, activation=tf.nn.softmax)])"
   ]
  },
  {
   "cell_type": "markdown",
   "metadata": {},
   "source": [
    "#### First Convolutional Neural Network"
   ]
  },
  {
   "cell_type": "code",
   "execution_count": 23,
   "metadata": {},
   "outputs": [],
   "source": [
    "#model = tf.keras.models.Sequential([\n",
    "#  tf.keras.layers.Conv2D(32, (3,3), activation='relu', input_shape=(28, 28, 1)),\n",
    "#  tf.keras.layers.Flatten(),\n",
    "#  tf.keras.layers.Dense(128, activation='relu'),\n",
    "#  tf.keras.layers.Dense(10, activation='softmax')"
   ]
  },
  {
   "cell_type": "markdown",
   "metadata": {},
   "source": [
    "#### First Model Optimization "
   ]
  },
  {
   "cell_type": "code",
   "execution_count": 24,
   "metadata": {},
   "outputs": [],
   "source": [
    "#model = tf.keras.models.Sequential([\n",
    "#  tf.keras.layers.Conv2D(64, (3,3), activation='relu', input_shape=(28, 28, 1)),\n",
    "#  tf.keras.layers.Flatten(),\n",
    "#  tf.keras.layers.Dense(128, activation='relu'),\n",
    "#  tf.keras.layers.Dense(10, activation='softmax')"
   ]
  },
  {
   "cell_type": "markdown",
   "metadata": {},
   "source": [
    "#### Second Model Optimization"
   ]
  },
  {
   "cell_type": "code",
   "execution_count": 25,
   "metadata": {},
   "outputs": [],
   "source": [
    "#1st convolutional layer\n",
    "#fashion_model3 = Sequential()\n",
    "#fashion_model3.add(Conv2D(128, kernel_size=(3, 3), activation='relu', input_shape=(28, 28, 1)))\n",
    "#fashion_model3.add(MaxPooling2D(pool_size=(2, 2)))\n",
    "#fashion_model3.add(Dropout(0.30))\n",
    "\n",
    "#2nd convolutional layer\n",
    "#fashion_model3.add(Conv2D(128, kernel_size=(5, 5), activation='relu'))\n",
    "#fashion_model3.add(MaxPooling2D(pool_size=(2, 2)))\n",
    "#fashion_model3.add(Dropout(0.30))\n",
    "\n",
    "#flatten layer\n",
    "#fashion_model3.add(Flatten())\n",
    "\n",
    "#dense layers\n",
    "#fashion_model3.add(Dense(512, activation='relu'))\n",
    "#fashion_model3.add(Dropout(0.30))\n",
    "#fashion_model3.add(Dense(10, activation='softmax'))"
   ]
  },
  {
   "cell_type": "markdown",
   "metadata": {},
   "source": [
    "#### Third Model Optimized"
   ]
  },
  {
   "cell_type": "code",
   "execution_count": 7,
   "metadata": {},
   "outputs": [],
   "source": [
    "#ADDING MORE CONVOLUTIONAL LAYERS AND DROPOUT LAYER\n",
    "#Dropout is the method used to reduce overfitting. \n",
    "#toforces the model to learn multiple independent representations of the same data by randomly disabling neurons in the learning phase.\n",
    "def fashion_model():\n",
    "\n",
    "#1st convolutional layer\n",
    "    fashion_model = Sequential()\n",
    "    fashion_model.add(Conv2D(32, kernel_size=(3, 3),padding = 'same', activation='relu', input_shape=(28, 28, 1)))\n",
    "    fashion_model.add(MaxPooling2D(pool_size=(2, 2)))\n",
    "    fashion_model.add(Dropout(0.30))\n",
    "\n",
    "#2nd convolutional layer\n",
    "    fashion_model.add(Conv2D(64, kernel_size=(3, 3), padding = 'same', activation='relu'))\n",
    "    fashion_model.add(MaxPooling2D(pool_size=(2, 2)))\n",
    "    fashion_model.add(Dropout(0.30))\n",
    "\n",
    "#flatten layer\n",
    "    fashion_model.add(Flatten())\n",
    "\n",
    "#dense layers\n",
    "    fashion_model.add(Dense(128, activation='relu'))\n",
    "    fashion_model.add(Dropout(0.30))\n",
    "    fashion_model.add(Dense(10, activation='softmax'))\n",
    "\n",
    "#model complie\n",
    "    fashion_model.compile(optimizer = keras.optimizers.Adam(),\n",
    "              loss = 'sparse_categorical_crossentropy',\n",
    "              metrics=['accuracy'])     \n",
    "    return fashion_model"
   ]
  },
  {
   "cell_type": "markdown",
   "metadata": {},
   "source": [
    "### Save Model"
   ]
  },
  {
   "cell_type": "code",
   "execution_count": 26,
   "metadata": {},
   "outputs": [],
   "source": [
    "# final model save\n",
    "def final_model():\n",
    "    # define model\n",
    "    model = fashion_model()\n",
    "    #load data\n",
    "    X_train, Y_train = load_data()\n",
    "    model.fit(X_train, Y_train, epochs=100)\n",
    "    model.save('fashion_model.h5')"
   ]
  },
  {
   "cell_type": "code",
   "execution_count": 9,
   "metadata": {},
   "outputs": [
    {
     "name": "stdout",
     "output_type": "stream",
     "text": [
      "WARNING:tensorflow:From C:\\Users\\Keval\\Anaconda3\\envs\\tensorflow\\lib\\site-packages\\keras\\backend\\tensorflow_backend.py:4070: The name tf.nn.max_pool is deprecated. Please use tf.nn.max_pool2d instead.\n",
      "\n",
      "WARNING:tensorflow:From C:\\Users\\Keval\\Anaconda3\\envs\\tensorflow\\lib\\site-packages\\keras\\backend\\tensorflow_backend.py:422: The name tf.global_variables is deprecated. Please use tf.compat.v1.global_variables instead.\n",
      "\n",
      "Epoch 1/100\n",
      "60000/60000 [==============================] - 15s 246us/step - loss: 0.5147 - accuracy: 0.8123\n",
      "Epoch 2/100\n",
      "60000/60000 [==============================] - 12s 205us/step - loss: 0.3571 - accuracy: 0.8712\n",
      "Epoch 3/100\n",
      "60000/60000 [==============================] - 12s 201us/step - loss: 0.3154 - accuracy: 0.8849\n",
      "Epoch 4/100\n",
      "60000/60000 [==============================] - 12s 203us/step - loss: 0.2910 - accuracy: 0.8942\n",
      "Epoch 5/100\n",
      "60000/60000 [==============================] - 12s 200us/step - loss: 0.2738 - accuracy: 0.8989\n",
      "Epoch 6/100\n",
      "60000/60000 [==============================] - 12s 199us/step - loss: 0.2577 - accuracy: 0.9042\n",
      "Epoch 7/100\n",
      "60000/60000 [==============================] - 12s 205us/step - loss: 0.2464 - accuracy: 0.9097\n",
      "Epoch 8/100\n",
      "60000/60000 [==============================] - 12s 203us/step - loss: 0.2378 - accuracy: 0.9124\n",
      "Epoch 9/100\n",
      "60000/60000 [==============================] - 12s 208us/step - loss: 0.2303 - accuracy: 0.9135\n",
      "Epoch 10/100\n",
      "60000/60000 [==============================] - 12s 201us/step - loss: 0.2255 - accuracy: 0.9158\n",
      "Epoch 11/100\n",
      "60000/60000 [==============================] - 12s 200us/step - loss: 0.2220 - accuracy: 0.9165\n",
      "Epoch 12/100\n",
      "60000/60000 [==============================] - 12s 201us/step - loss: 0.2163 - accuracy: 0.9201\n",
      "Epoch 13/100\n",
      "60000/60000 [==============================] - 12s 201us/step - loss: 0.2112 - accuracy: 0.9191\n",
      "Epoch 14/100\n",
      "60000/60000 [==============================] - 12s 201us/step - loss: 0.2067 - accuracy: 0.9222\n",
      "Epoch 15/100\n",
      "60000/60000 [==============================] - 12s 203us/step - loss: 0.2028 - accuracy: 0.9234\n",
      "Epoch 16/100\n",
      "60000/60000 [==============================] - 12s 202us/step - loss: 0.1980 - accuracy: 0.9261\n",
      "Epoch 17/100\n",
      "60000/60000 [==============================] - 12s 201us/step - loss: 0.1980 - accuracy: 0.9258\n",
      "Epoch 18/100\n",
      "60000/60000 [==============================] - 12s 202us/step - loss: 0.1917 - accuracy: 0.9289\n",
      "Epoch 19/100\n",
      "60000/60000 [==============================] - 12s 202us/step - loss: 0.1909 - accuracy: 0.9287\n",
      "Epoch 20/100\n",
      "60000/60000 [==============================] - 12s 204us/step - loss: 0.1896 - accuracy: 0.9285\n",
      "Epoch 21/100\n",
      "60000/60000 [==============================] - 12s 202us/step - loss: 0.1847 - accuracy: 0.9303\n",
      "Epoch 22/100\n",
      "60000/60000 [==============================] - 12s 202us/step - loss: 0.1830 - accuracy: 0.9311\n",
      "Epoch 23/100\n",
      "60000/60000 [==============================] - 12s 202us/step - loss: 0.1806 - accuracy: 0.9308\n",
      "Epoch 24/100\n",
      "60000/60000 [==============================] - 12s 201us/step - loss: 0.1795 - accuracy: 0.9311\n",
      "Epoch 25/100\n",
      "60000/60000 [==============================] - 12s 202us/step - loss: 0.1756 - accuracy: 0.9328\n",
      "Epoch 26/100\n",
      "60000/60000 [==============================] - 12s 203us/step - loss: 0.1743 - accuracy: 0.9344\n",
      "Epoch 27/100\n",
      "60000/60000 [==============================] - 12s 201us/step - loss: 0.1740 - accuracy: 0.9352\n",
      "Epoch 28/100\n",
      "60000/60000 [==============================] - 12s 202us/step - loss: 0.1734 - accuracy: 0.9338\n",
      "Epoch 29/100\n",
      "60000/60000 [==============================] - 12s 202us/step - loss: 0.1714 - accuracy: 0.9360\n",
      "Epoch 30/100\n",
      "60000/60000 [==============================] - 12s 204us/step - loss: 0.1684 - accuracy: 0.9364\n",
      "Epoch 31/100\n",
      "60000/60000 [==============================] - 12s 203us/step - loss: 0.1679 - accuracy: 0.9364\n",
      "Epoch 32/100\n",
      "60000/60000 [==============================] - 12s 202us/step - loss: 0.1655 - accuracy: 0.9367\n",
      "Epoch 33/100\n",
      "60000/60000 [==============================] - 12s 202us/step - loss: 0.1660 - accuracy: 0.9383\n",
      "Epoch 34/100\n",
      "60000/60000 [==============================] - 12s 194us/step - loss: 0.1621 - accuracy: 0.9372\n",
      "Epoch 35/100\n",
      "60000/60000 [==============================] - 12s 194us/step - loss: 0.1634 - accuracy: 0.9372\n",
      "Epoch 36/100\n",
      "60000/60000 [==============================] - 12s 195us/step - loss: 0.1612 - accuracy: 0.9391\n",
      "Epoch 37/100\n",
      "60000/60000 [==============================] - 12s 195us/step - loss: 0.1587 - accuracy: 0.9392\n",
      "Epoch 38/100\n",
      "60000/60000 [==============================] - 12s 194us/step - loss: 0.1597 - accuracy: 0.9401\n",
      "Epoch 39/100\n",
      "60000/60000 [==============================] - 12s 194us/step - loss: 0.1588 - accuracy: 0.9391\n",
      "Epoch 40/100\n",
      "60000/60000 [==============================] - 12s 194us/step - loss: 0.1584 - accuracy: 0.9402\n",
      "Epoch 41/100\n",
      "60000/60000 [==============================] - 12s 195us/step - loss: 0.1583 - accuracy: 0.9404\n",
      "Epoch 42/100\n",
      "60000/60000 [==============================] - 12s 196us/step - loss: 0.1558 - accuracy: 0.9404\n",
      "Epoch 43/100\n",
      "60000/60000 [==============================] - 12s 193us/step - loss: 0.1530 - accuracy: 0.9421\n",
      "Epoch 44/100\n",
      "60000/60000 [==============================] - 12s 194us/step - loss: 0.1557 - accuracy: 0.9416\n",
      "Epoch 45/100\n",
      "60000/60000 [==============================] - 12s 194us/step - loss: 0.1506 - accuracy: 0.9416\n",
      "Epoch 46/100\n",
      "60000/60000 [==============================] - 12s 194us/step - loss: 0.1530 - accuracy: 0.9429\n",
      "Epoch 47/100\n",
      "60000/60000 [==============================] - 12s 193us/step - loss: 0.1544 - accuracy: 0.9422\n",
      "Epoch 48/100\n",
      "60000/60000 [==============================] - 12s 200us/step - loss: 0.1509 - accuracy: 0.9432\n",
      "Epoch 49/100\n",
      "60000/60000 [==============================] - 12s 203us/step - loss: 0.1485 - accuracy: 0.9443\n",
      "Epoch 50/100\n",
      "60000/60000 [==============================] - 12s 200us/step - loss: 0.1504 - accuracy: 0.9434\n",
      "Epoch 51/100\n",
      "60000/60000 [==============================] - 12s 200us/step - loss: 0.1492 - accuracy: 0.9438\n",
      "Epoch 52/100\n",
      "60000/60000 [==============================] - 12s 200us/step - loss: 0.1458 - accuracy: 0.9447\n",
      "Epoch 53/100\n",
      "60000/60000 [==============================] - 12s 201us/step - loss: 0.1449 - accuracy: 0.9459\n",
      "Epoch 54/100\n",
      "60000/60000 [==============================] - 12s 200us/step - loss: 0.1473 - accuracy: 0.9435\n",
      "Epoch 55/100\n",
      "60000/60000 [==============================] - 12s 200us/step - loss: 0.1467 - accuracy: 0.9451\n",
      "Epoch 56/100\n",
      "60000/60000 [==============================] - 12s 201us/step - loss: 0.1491 - accuracy: 0.9444\n",
      "Epoch 57/100\n",
      "60000/60000 [==============================] - 12s 203us/step - loss: 0.1452 - accuracy: 0.9458\n",
      "Epoch 58/100\n",
      "60000/60000 [==============================] - 12s 200us/step - loss: 0.1435 - accuracy: 0.9461\n",
      "Epoch 59/100\n",
      "60000/60000 [==============================] - 12s 202us/step - loss: 0.1462 - accuracy: 0.9459\n",
      "Epoch 60/100\n",
      "60000/60000 [==============================] - 12s 205us/step - loss: 0.1438 - accuracy: 0.9471\n",
      "Epoch 61/100\n",
      "60000/60000 [==============================] - 12s 201us/step - loss: 0.1427 - accuracy: 0.9459\n",
      "Epoch 62/100\n",
      "60000/60000 [==============================] - 12s 198us/step - loss: 0.1426 - accuracy: 0.9464\n",
      "Epoch 63/100\n",
      "60000/60000 [==============================] - 12s 196us/step - loss: 0.1458 - accuracy: 0.9451\n",
      "Epoch 64/100\n",
      "60000/60000 [==============================] - 12s 199us/step - loss: 0.1384 - accuracy: 0.9477\n",
      "Epoch 65/100\n",
      "60000/60000 [==============================] - 12s 201us/step - loss: 0.1432 - accuracy: 0.9458\n",
      "Epoch 66/100\n",
      "60000/60000 [==============================] - 12s 199us/step - loss: 0.1386 - accuracy: 0.9478\n",
      "Epoch 67/100\n",
      "60000/60000 [==============================] - 12s 207us/step - loss: 0.1386 - accuracy: 0.9480\n",
      "Epoch 68/100\n",
      "60000/60000 [==============================] - 12s 202us/step - loss: 0.1399 - accuracy: 0.9467\n",
      "Epoch 69/100\n",
      "60000/60000 [==============================] - 12s 203us/step - loss: 0.1405 - accuracy: 0.9469\n",
      "Epoch 70/100\n",
      "60000/60000 [==============================] - 12s 204us/step - loss: 0.1395 - accuracy: 0.9480\n",
      "Epoch 71/100\n",
      "60000/60000 [==============================] - 12s 202us/step - loss: 0.1373 - accuracy: 0.9481\n",
      "Epoch 72/100\n",
      "60000/60000 [==============================] - 12s 199us/step - loss: 0.1395 - accuracy: 0.9479\n",
      "Epoch 73/100\n",
      "60000/60000 [==============================] - 12s 200us/step - loss: 0.1395 - accuracy: 0.9486\n",
      "Epoch 74/100\n",
      "60000/60000 [==============================] - 12s 200us/step - loss: 0.1356 - accuracy: 0.9487\n",
      "Epoch 75/100\n",
      "60000/60000 [==============================] - 12s 201us/step - loss: 0.1377 - accuracy: 0.9485\n",
      "Epoch 76/100\n",
      "60000/60000 [==============================] - 12s 199us/step - loss: 0.1347 - accuracy: 0.9495\n",
      "Epoch 77/100\n",
      "60000/60000 [==============================] - 12s 199us/step - loss: 0.1365 - accuracy: 0.9481\n",
      "Epoch 78/100\n",
      "60000/60000 [==============================] - 12s 200us/step - loss: 0.1389 - accuracy: 0.9475\n",
      "Epoch 79/100\n",
      "60000/60000 [==============================] - 12s 200us/step - loss: 0.1347 - accuracy: 0.9482\n",
      "Epoch 80/100\n",
      "60000/60000 [==============================] - 12s 201us/step - loss: 0.1364 - accuracy: 0.9492\n",
      "Epoch 81/100\n",
      "60000/60000 [==============================] - 12s 204us/step - loss: 0.1358 - accuracy: 0.9489\n",
      "Epoch 82/100\n",
      "60000/60000 [==============================] - 12s 203us/step - loss: 0.1307 - accuracy: 0.9500\n",
      "Epoch 83/100\n",
      "60000/60000 [==============================] - 12s 203us/step - loss: 0.1342 - accuracy: 0.9501\n",
      "Epoch 84/100\n",
      "60000/60000 [==============================] - 12s 204us/step - loss: 0.1335 - accuracy: 0.9502\n",
      "Epoch 85/100\n",
      "60000/60000 [==============================] - 12s 204us/step - loss: 0.1344 - accuracy: 0.9498\n",
      "Epoch 86/100\n",
      "60000/60000 [==============================] - 12s 204us/step - loss: 0.1338 - accuracy: 0.9491\n",
      "Epoch 87/100\n",
      "60000/60000 [==============================] - 12s 203us/step - loss: 0.1293 - accuracy: 0.9515\n",
      "Epoch 88/100\n",
      "60000/60000 [==============================] - 12s 203us/step - loss: 0.1323 - accuracy: 0.9512\n",
      "Epoch 89/100\n",
      "60000/60000 [==============================] - 12s 205us/step - loss: 0.1300 - accuracy: 0.9512\n",
      "Epoch 90/100\n",
      "60000/60000 [==============================] - 12s 202us/step - loss: 0.1342 - accuracy: 0.9500\n",
      "Epoch 91/100\n",
      "60000/60000 [==============================] - 12s 204us/step - loss: 0.1351 - accuracy: 0.9498\n",
      "Epoch 92/100\n",
      "60000/60000 [==============================] - 12s 206us/step - loss: 0.1331 - accuracy: 0.9506\n",
      "Epoch 93/100\n",
      "60000/60000 [==============================] - 12s 203us/step - loss: 0.1286 - accuracy: 0.9512\n",
      "Epoch 94/100\n",
      "60000/60000 [==============================] - ETA: 0s - loss: 0.1315 - accuracy: 0.95 - 12s 203us/step - loss: 0.1315 - accuracy: 0.9509\n",
      "Epoch 95/100\n",
      "60000/60000 [==============================] - 12s 202us/step - loss: 0.1338 - accuracy: 0.9499\n",
      "Epoch 96/100\n",
      "60000/60000 [==============================] - 12s 204us/step - loss: 0.1283 - accuracy: 0.9518\n",
      "Epoch 97/100\n",
      "60000/60000 [==============================] - 12s 204us/step - loss: 0.1302 - accuracy: 0.9518\n",
      "Epoch 98/100\n",
      "60000/60000 [==============================] - 12s 201us/step - loss: 0.1334 - accuracy: 0.9493\n",
      "Epoch 99/100\n",
      "60000/60000 [==============================] - 12s 202us/step - loss: 0.1310 - accuracy: 0.9512\n",
      "Epoch 100/100\n",
      "60000/60000 [==============================] - 12s 202us/step - loss: 0.1289 - accuracy: 0.9530\n"
     ]
    }
   ],
   "source": [
    "final_model()"
   ]
  },
  {
   "cell_type": "code",
   "execution_count": 9,
   "metadata": {},
   "outputs": [
    {
     "name": "stdout",
     "output_type": "stream",
     "text": [
      "Shape of features: (10000, 28, 28, 1)\n",
      "Shape of target: (10000,)\n"
     ]
    }
   ],
   "source": [
    "#test data\n",
    "fashion_test = pd.read_csv('D:\\\\fashion-mnist_test.csv')\n",
    "\n",
    "#convert into array\n",
    "f_test = fashion_test.astype(\"float32\")/255\n",
    "\n",
    "#features for testing\n",
    "X_test = f_test.iloc[:,1:]\n",
    "\n",
    "#convert into array\n",
    "X_test = np.array(X_test, dtype = 'float32')\n",
    "\n",
    "#Reshape\n",
    "X_test = X_test.reshape((X_test.shape[0], 28, 28, 1))\n",
    "\n",
    "#Shape of test Data\n",
    "print('Shape of features:',X_test.shape)\n",
    "\n",
    "#target for testing\n",
    "Y_test = fashion_test.iloc[:,0]\n",
    "\n",
    "#convert into array\n",
    "Y_test = np.array(Y_test, dtype = 'float32')\n",
    "\n",
    "#Shape of target\n",
    "print('Shape of target:',Y_test.shape)"
   ]
  },
  {
   "cell_type": "code",
   "execution_count": 10,
   "metadata": {},
   "outputs": [
    {
     "name": "stdout",
     "output_type": "stream",
     "text": [
      "WARNING:tensorflow:From C:\\Users\\Keval\\Anaconda3\\envs\\tensorflow\\lib\\site-packages\\keras\\backend\\tensorflow_backend.py:4070: The name tf.nn.max_pool is deprecated. Please use tf.nn.max_pool2d instead.\n",
      "\n"
     ]
    },
    {
     "name": "stderr",
     "output_type": "stream",
     "text": [
      "C:\\Users\\Keval\\Anaconda3\\envs\\tensorflow\\lib\\site-packages\\keras\\engine\\saving.py:341: UserWarning: No training configuration found in save file: the model was *not* compiled. Compile it manually.\n",
      "  warnings.warn('No training configuration found in save file: '\n"
     ]
    }
   ],
   "source": [
    "from keras.models import load_model\n",
    "model = load_model('final_model.h5')"
   ]
  },
  {
   "cell_type": "code",
   "execution_count": 11,
   "metadata": {},
   "outputs": [],
   "source": [
    "model.compile(optimizer = keras.optimizers.Adam(),\n",
    "              loss = 'sparse_categorical_crossentropy',\n",
    "              metrics=['accuracy'])  "
   ]
  },
  {
   "cell_type": "code",
   "execution_count": 12,
   "metadata": {},
   "outputs": [
    {
     "name": "stdout",
     "output_type": "stream",
     "text": [
      "WARNING:tensorflow:From C:\\Users\\Keval\\Anaconda3\\envs\\tensorflow\\lib\\site-packages\\keras\\backend\\tensorflow_backend.py:422: The name tf.global_variables is deprecated. Please use tf.compat.v1.global_variables instead.\n",
      "\n",
      "10000/10000 [==============================] - 4s 382us/step\n",
      "Test loss 0.20110615355269984\n",
      "Test accuracy 0.9340000152587891\n"
     ]
    }
   ],
   "source": [
    "#eveluate model for test accuracy\n",
    "test_loss, test_acc = model.evaluate(X_test, Y_test)\n",
    "print('Test loss', test_loss)\n",
    "print('Test accuracy', test_acc)"
   ]
  },
  {
   "cell_type": "markdown",
   "metadata": {},
   "source": [
    "#### Import_Resize_Reshape_prediction"
   ]
  },
  {
   "cell_type": "code",
   "execution_count": 32,
   "metadata": {},
   "outputs": [],
   "source": [
    "#import necessary packages for importing image\n",
    "from scipy.misc import imread\n",
    "import cv2\n",
    "import glob\n",
    "import os"
   ]
  },
  {
   "cell_type": "code",
   "execution_count": 33,
   "metadata": {},
   "outputs": [],
   "source": [
    "#For inporting multiple images with transformation\n",
    "folders = glob.glob('D:\\\\Semester 3\\\\Machine Learning 2\\\\resized\\\\')\n",
    "imagenames__list = []\n",
    "for folder in folders:\n",
    "    for f in glob.glob(folder+'/*'):\n",
    "       imagenames__list.append(f)\n",
    "\n",
    "import_img = []\n",
    "for image in imagenames__list:\n",
    "    import_img.append(cv2.imread(image, cv2.IMREAD_GRAYSCALE)) #import image directly in grayscale\n",
    "\n",
    "resize_img = []\n",
    "for new in import_img:\n",
    "    resize_img.append(cv2.resize(new, (28,28))) #resize image\n",
    "\n",
    "reshape_img = []\n",
    "for new_img in resize_img:\n",
    "    reshape_img.append(new_img.reshape(1,28,28,1)) #reshape image\n",
    " \n",
    "final_img = []\n",
    "for f_img in reshape_img:\n",
    "    final_img.append(f_img.astype(\"float32\")/255) #devide by 255 for normization   "
   ]
  },
  {
   "cell_type": "code",
   "execution_count": 39,
   "metadata": {},
   "outputs": [
    {
     "data": {
      "text/plain": [
       "<matplotlib.image.AxesImage at 0x20c2eb829c8>"
      ]
     },
     "execution_count": 39,
     "metadata": {},
     "output_type": "execute_result"
    },
    {
     "data": {
      "image/png": "[encoded data removed]",
      "text/plain": [
       "<Figure size 432x288 with 1 Axes>"
      ]
     },
     "metadata": {
      "needs_background": "light"
     },
     "output_type": "display_data"
    }
   ],
   "source": [
    "#see the image how ot look after transformation\n",
    "plt.imshow(resize_img[23])"
   ]
  },
  {
   "cell_type": "code",
   "execution_count": 43,
   "metadata": {},
   "outputs": [
    {
     "name": "stdout",
     "output_type": "stream",
     "text": [
      "[3]\n",
      "[3]\n",
      "[1]\n",
      "[1]\n",
      "[3]\n",
      "[3]\n",
      "[3]\n",
      "[1]\n",
      "[1]\n",
      "[1]\n",
      "[3]\n",
      "[6]\n",
      "[3]\n",
      "[3]\n",
      "[3]\n",
      "[3]\n",
      "[3]\n",
      "[1]\n",
      "[3]\n",
      "[3]\n",
      "[5]\n",
      "[3]\n",
      "[3]\n",
      "[3]\n",
      "[3]\n",
      "[6]\n",
      "[3]\n",
      "[3]\n",
      "[3]\n",
      "[3]\n"
     ]
    }
   ],
   "source": [
    "#create list of 0-30\n",
    "abc = np.array(list(range(0,30)))\n",
    "#predicting all the images\n",
    "for i in abc:\n",
    "    model.predict_classes(final_img[i])\n",
    "\n",
    "    print(model.predict_classes(final_img[i]))\n",
    "    "
   ]
  },
  {
   "cell_type": "code",
   "execution_count": 45,
   "metadata": {},
   "outputs": [],
   "source": [
    "#Original Class\n",
    "# 9, 9, 9, 8, 8, 8, 4, 4, 4, 3, 3, 3, 2, 2, 2, 5, 5, 5, 6, 6, 6, 7, 7, 7, 0, 0, 0, 1, 1, 1"
   ]
  }
 ],
 "metadata": {
  "kernelspec": {
   "display_name": "Python 3",
   "language": "python",
   "name": "python3"
  },
  "language_info": {
   "codemirror_mode": {
    "name": "ipython",
    "version": 3
   },
   "file_extension": ".py",
   "mimetype": "text/x-python",
   "name": "python",
   "nbconvert_exporter": "python",
   "pygments_lexer": "ipython3",
   "version": "3.7.5"
  }
 },
 "nbformat": 4,
 "nbformat_minor": 2
}